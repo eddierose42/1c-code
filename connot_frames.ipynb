{
 "cells": [
  {
   "cell_type": "code",
   "execution_count": 2,
   "id": "8e23860b",
   "metadata": {},
   "outputs": [
    {
     "name": "stderr",
     "output_type": "stream",
     "text": [
      "/Users/eddie/Library/Python/3.9/lib/python/site-packages/urllib3/__init__.py:35: NotOpenSSLWarning: urllib3 v2 only supports OpenSSL 1.1.1+, currently the 'ssl' module is compiled with 'LibreSSL 2.8.3'. See: https://github.com/urllib3/urllib3/issues/3020\n",
      "  warnings.warn(\n"
     ]
    }
   ],
   "source": [
    "import pandas as pd\n",
    "import numpy as np\n",
    "import matplotlib.pyplot as plt\n",
    "from scipy import stats\n",
    "import warnings\n",
    "from nlp_tools import text_processing, data_analysis\n",
    "import subject_verb_object_extract as svo_extract\n",
    "\n",
    "warnings.filterwarnings(\"ignore\")\n",
    "pd.set_option('mode.copy_on_write', True)\n",
    "rng = np.random.default_rng()\n",
    "connotationframes = pd.read_csv(\"data/lexicon/connotation_frames.txt\", sep=\"\\t\")\n",
    "connotationframes.set_index(\"verb\", drop=True, inplace=True)\n",
    "\n",
    "def process(corpus):\n",
    "    def add_to_masterlist(tuples):\n",
    "        for i in tuples:\n",
    "            svo_masterlist.append(i)\n",
    "\n",
    "    tokenised = text_processing.preprocess_corpus(corpus, keep_paragraphs=True, to_return=\"tokenised\", remove_punctuation=True)\n",
    "    svo_tuples = tokenised.apply(text_processing.apply_to_subset, function=svo_extract.findSVOs)\n",
    "    svo_masterlist = []\n",
    "    svo_tuples.apply(text_processing.apply_to_subset, function=add_to_masterlist)\n",
    "    svo_masterlist = pd.Series(svo_masterlist)\n",
    "    svo_masterlist.drop_duplicates(inplace=True)\n",
    "\n",
    "    return svo_masterlist\n",
    "\n",
    "def analyse_svo_tuples(tuple, wordlist, output=False):\n",
    "    total = 0\n",
    "    count = 0\n",
    " \n",
    "    for word in wordlist:\n",
    "        if word in tuple[0]: # target as subject\n",
    "            verb = tuple[1]\n",
    "            val = \"N/A\"\n",
    "            if verb in connotationframes.index:\n",
    "                val = connotationframes.loc[verb, \"Perspective(ws)\"]\n",
    "                total += val\n",
    "                count += 1\n",
    "                val = round(val, 2)\n",
    "            if output: print(\"S: \", \" <> \".join(tuple), \"==>\", val)\n",
    "\n",
    "        if len(tuple) > 2:\n",
    "            if word in tuple[2]: # target as object\n",
    "                verb = tuple[1]\n",
    "                val = \"N/A\"\n",
    "                if verb in connotationframes.index:\n",
    "                    val = connotationframes.loc[verb, \"Perspective(wo)\"]\n",
    "                    total += val\n",
    "                    count += 1\n",
    "                    val = round(val, 2)\n",
    "                if output: print(\"O: \", \" <> \".join(tuple), \"==>\", val)\n",
    "    if count > 0:\n",
    "        avg = total / count\n",
    "        return avg\n",
    "    \n",
    "def run_analysis(target_groups, tuples=None, corpus=None, return_results=True, return_series=True, return_tuples=False):\n",
    "    if tuples is None:\n",
    "        tuples = process(corpus)\n",
    "    sentiment = tuples.apply(analyse_svo_tuples, wordlist=target_groups).dropna()\n",
    "    \n",
    "    to_return = []\n",
    "    if return_results:\n",
    "        to_return.append(sentiment.mean())\n",
    "    if return_series:\n",
    "        to_return.append(sentiment)\n",
    "    if return_tuples:\n",
    "        to_return.append(tuples)\n",
    "    if len(to_return) == 1:\n",
    "        return to_return[0]\n",
    "    else:\n",
    "        return to_return"
   ]
  },
  {
   "cell_type": "code",
   "execution_count": 3,
   "id": "1f6131c8",
   "metadata": {},
   "outputs": [],
   "source": [
    "## Set up data and run analysis\n",
    "\n",
    "target_groups = [\"migrant\", \"refugee\", \"asylum seeker\"] # immigrant and immigration are picked up by 'migrant'\n",
    "control_groups = [\"briton\", \"british\", \"britain\", \"english\"]\n",
    "\n",
    "corpora_to_analyse = [\"BBC\", \"Daily mail\", \"Metro\"]\n",
    "corpora = []\n",
    "\n",
    "for name in corpora_to_analyse:\n",
    "    loaded = text_processing.load_corpus(name)\n",
    "    corpora.append(loaded)\n",
    "\n",
    "corpus = pd.concat(corpora)\n",
    "svo_tuples = process(corpus) # takes a while!\n",
    "\n",
    "sentiment_migrants = run_analysis(target_groups, tuples=svo_tuples, return_results=False)\n",
    "sentiment_control = run_analysis(control_groups, tuples=svo_tuples, return_results=False)"
   ]
  },
  {
   "cell_type": "code",
   "execution_count": 7,
   "id": "3afc36e2",
   "metadata": {},
   "outputs": [
    {
     "data": {
      "image/png": "[encoded data removed]",
      "text/plain": [
       "<Figure size 640x480 with 1 Axes>"
      ]
     },
     "metadata": {},
     "output_type": "display_data"
    }
   ],
   "source": [
    "# Visualise data\n",
    "\n",
    "data = pd.concat([sentiment_control, sentiment_migrants])\n",
    "n_bins = int((data.max() - data.min()) / (2 * (data.quantile(0.75) - data.quantile(0.25)) / data.count()**(1/3)))  # Freedman-Diaconis rule\n",
    "\n",
    "sentiment_migrants.plot(kind=\"hist\", bins=n_bins, density=True, alpha=0.7)\n",
    "sentiment_control.plot(kind=\"hist\", bins=n_bins, density=True, alpha=0.7)\n",
    "plt.legend([\"migrant group\", \"control group\"])\n",
    "plt.xlabel(\"sentiment\")\n",
    "plt.show()"
   ]
  },
  {
   "cell_type": "code",
   "execution_count": null,
   "id": "99a295a1",
   "metadata": {},
   "outputs": [
    {
     "name": "stdout",
     "output_type": "stream",
     "text": [
      "Mean difference: 0.06831828219304148 \n",
      "\n",
      "Difference in standard deviation: 0.031941226176886856 \n",
      "\n",
      "Conducting t-test:\n",
      "\tThere is enough evidence to reject the null hypothesis\n",
      "\tt(3799.0) = -4.602081995039253, p = 2.15975544837309e-06\n",
      "Conducting permutation test:\n",
      "\tThere is insufficient evidence to reject the null hypothesis for sentiment (p: 0.143)\n"
     ]
    },
    {
     "data": {
      "text/plain": [
       "[0]"
      ]
     },
     "execution_count": 16,
     "metadata": {},
     "output_type": "execute_result"
    }
   ],
   "source": [
    "# Test for significance\n",
    "\n",
    "def analyse_for_permut(words):\n",
    "    sentiment = svo_tuples.apply(analyse_svo_tuples, wordlist=words).dropna()\n",
    "    df = pd.DataFrame()\n",
    "    df[\"sentiment\"] = sentiment\n",
    "    return df\n",
    "\n",
    "significance_level=0.05\n",
    "output=True\n",
    "test_types = {\"sentiment\": \"less\"}\n",
    "\n",
    "print(\"Mean difference:\", (sentiment_control.mean() - sentiment_migrants.mean()), \"\\n\")\n",
    "print(\"Difference in standard deviation:\", abs(sentiment_control.std() - sentiment_migrants.std()), \"\\n\")\n",
    "\n",
    "print(\"Conducting t-test:\")\n",
    "\n",
    "test = stats.ttest_ind(sentiment_migrants, sentiment_control, alternative=\"less\")\n",
    "if test.pvalue < significance_level:\n",
    "    if output: print(\"\\tThere is enough evidence to reject the null hypothesis\")\n",
    "    if output: print(\"\\tt({}) = {}, p = {}\\n\".format(test.df, test.statistic, test.pvalue))\n",
    "\n",
    "else:\n",
    "    if output: print(\"\\tThere is insufficient evidence to reject the null hypothesis\", \"(p: {})\".format(test.pvalue))\n",
    "\n",
    "data_analysis.permutation_test_difference(target_groups, control_groups, test_types, function=analyse_for_permut, n=1000)"
   ]
  },
  {
   "cell_type": "code",
   "execution_count": null,
   "id": "45d66f34",
   "metadata": {},
   "outputs": [
    {
     "name": "stdout",
     "output_type": "stream",
     "text": [
      "157574\n"
     ]
    },
    {
     "data": {
      "text/plain": [
       "(3437, 364)"
      ]
     },
     "execution_count": 19,
     "metadata": {},
     "output_type": "execute_result"
    }
   ],
   "source": [
    "# Get size of data\n",
    "\n",
    "print(len(svo_tuples))\n",
    "len(sentiment_migrants), len(sentiment_control)"
   ]
  }
 ],
 "metadata": {
  "kernelspec": {
   "display_name": "Python 3",
   "language": "python",
   "name": "python3"
  },
  "language_info": {
   "codemirror_mode": {
    "name": "ipython",
    "version": 3
   },
   "file_extension": ".py",
   "mimetype": "text/x-python",
   "name": "python",
   "nbconvert_exporter": "python",
   "pygments_lexer": "ipython3",
   "version": "3.9.6"
  }
 },
 "nbformat": 4,
 "nbformat_minor": 5
}
